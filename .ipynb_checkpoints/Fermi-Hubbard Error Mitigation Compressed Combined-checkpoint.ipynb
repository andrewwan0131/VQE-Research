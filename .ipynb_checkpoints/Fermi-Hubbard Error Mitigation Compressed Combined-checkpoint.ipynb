{
 "cells": [
  {
   "cell_type": "code",
   "execution_count": 1,
   "id": "ee49ccab",
   "metadata": {},
   "outputs": [],
   "source": [
    "import warnings\n",
    "warnings.filterwarnings(\"ignore\")"
   ]
  },
  {
   "cell_type": "code",
   "execution_count": 2,
   "id": "e4c56704",
   "metadata": {},
   "outputs": [
    {
     "name": "stdout",
     "output_type": "stream",
     "text": [
      "Original: 0.01 0.050000000000000044\n",
      "Reverse: 0.01 0.050000000000000044\n",
      "Original: 0.02 0.07666666666666666\n",
      "Reverse: 0.02 0.07666666666666666\n",
      "Original: 0.14 0.18999999999999995\n",
      "Reverse: 0.14 0.18999999999999995\n",
      "Original: 0.0033333333333332993 0.03\n",
      "Reverse: 0.0033333333333332993 0.03\n",
      "Original: 0.006666666666666667 0.043333333333333335\n",
      "Reverse: 0.006666666666666667 0.043333333333333335\n"
     ]
    }
   ],
   "source": [
    "import qiskit\n",
    "from qiskit import *\n",
    "from math import pi\n",
    "from qiskit.test.mock import FakeLondon\n",
    "from qiskit import Aer\n",
    "from qiskit import aqua\n",
    "from NoiseModel import generateDepolarizingError, generateRelaxationError, generateNoiseModel\n",
    "from qiskit.visualization import plot_histogram\n",
    "import math\n",
    "import cmath\n",
    "\n",
    "t=1\n",
    "U=1\n",
    "machine = FakeLondon()\n",
    "simulator = Aer.get_backend('qasm_simulator')\n",
    "noise_model = generateNoiseModel(machine, coherent = False, incoherent = False, readout= True)"
   ]
  },
  {
   "cell_type": "code",
   "execution_count": 3,
   "id": "b6859aa6",
   "metadata": {},
   "outputs": [],
   "source": [
    "IBMQ.save_account(token=\"4d27cf4fc846df164ebc35734c48c5c21c3e3d8698af0b25c0a105dd651cd6245349d7f232c3b20c43f3650e0a8c87dcc098e76fcd31c182c0778441d4d975fd\", hub=\"ibm-q-education\", group=\"rutgers-2\", project=\"vqe-research\", overwrite=True)\n",
    "IBMQ.load_account()\n",
    "provider=IBMQ.get_provider(\"ibm-q-education\")"
   ]
  },
  {
   "cell_type": "code",
   "execution_count": 4,
   "id": "cc44f015",
   "metadata": {},
   "outputs": [],
   "source": [
    "#dummy parameters\n",
    "phi = pi/4\n",
    "theta = pi/4"
   ]
  },
  {
   "cell_type": "markdown",
   "id": "722e0ea6",
   "metadata": {},
   "source": [
    "# Circuit"
   ]
  },
  {
   "cell_type": "markdown",
   "id": "2283ea49",
   "metadata": {},
   "source": [
    "Lets make a function out of this which takes in a value for gamma and outputs the circuit with gamma = that value"
   ]
  },
  {
   "cell_type": "code",
   "execution_count": 5,
   "id": "26805387",
   "metadata": {},
   "outputs": [],
   "source": [
    "def get_hopping_circ(phi, theta):\n",
    "    \n",
    "    qreg_q = QuantumRegister(4, 'q')\n",
    "    creg_c = ClassicalRegister(4, 'c')\n",
    "    circuit = QuantumCircuit(qreg_q, creg_c)\n",
    "\n",
    "    # Initialization\n",
    "    circuit.ry(-pi/2, qreg_q[0])\n",
    "    circuit.ry(-pi/2, qreg_q[1])\n",
    "    \n",
    "    # Barrier\n",
    "    circuit.barrier(qreg_q[0], qreg_q[1], qreg_q[2], qreg_q[3])\n",
    "\n",
    "    # Ansatz\n",
    "    circuit.cx(qreg_q[0], qreg_q[1])\n",
    "    circuit.rz(phi, qreg_q[1])\n",
    "    circuit.cx(qreg_q[0], qreg_q[1])\n",
    "    circuit.rx(theta, qreg_q[0])\n",
    "    circuit.rx(theta, qreg_q[1])\n",
    "\n",
    "\n",
    "    # Barrier\n",
    "    circuit.barrier(qreg_q[0], qreg_q[1], qreg_q[2], qreg_q[3])\n",
    "\n",
    "    # Diagonalization\n",
    "    circuit.h(qreg_q[0])\n",
    "    circuit.h(qreg_q[1])\n",
    "    # Barrier\n",
    "    circuit.barrier(qreg_q[0], qreg_q[1], qreg_q[2], qreg_q[3])\n",
    "    \n",
    "    circuit.cx(qreg_q[0], qreg_q[2])\n",
    "    circuit.cx(qreg_q[1], qreg_q[3])\n",
    "    circuit.x(qreg_q[2])\n",
    "    circuit.x(qreg_q[3])\n",
    "    # Measurement\n",
    "    circuit.measure(qreg_q[0], creg_c[0])\n",
    "    circuit.measure(qreg_q[1], creg_c[1])\n",
    "    circuit.measure(qreg_q[2], creg_c[2])\n",
    "    circuit.measure(qreg_q[3], creg_c[3])\n",
    "    \n",
    "    return circuit"
   ]
  },
  {
   "cell_type": "code",
   "execution_count": 6,
   "id": "287ea6fa",
   "metadata": {},
   "outputs": [
    {
     "data": {
      "image/png": "[encoded data removed]",
      "text/plain": [
       "<Figure size 1049.8x325.08 with 1 Axes>"
      ]
     },
     "execution_count": 6,
     "metadata": {},
     "output_type": "execute_result"
    }
   ],
   "source": [
    "get_hopping_circ(phi, theta).draw('mpl')"
   ]
  },
  {
   "cell_type": "code",
   "execution_count": 7,
   "id": "b9dfb48d",
   "metadata": {},
   "outputs": [],
   "source": [
    "def get_onsite_circ(phi, theta):\n",
    "    \n",
    "    qreg_q = QuantumRegister(4, 'q')\n",
    "    creg_c = ClassicalRegister(4, 'c')\n",
    "    circuit = QuantumCircuit(qreg_q, creg_c)\n",
    "\n",
    "    # Initialization\n",
    "    circuit.ry(-pi/2, qreg_q[0])\n",
    "    circuit.ry(-pi/2, qreg_q[1])\n",
    "    \n",
    "    # Barrier\n",
    "    circuit.barrier(qreg_q[0], qreg_q[1], qreg_q[2], qreg_q[3])\n",
    "\n",
    "    # Ansatz\n",
    "    circuit.cx(qreg_q[0], qreg_q[1])\n",
    "    circuit.rz(phi, qreg_q[1])\n",
    "    circuit.cx(qreg_q[0], qreg_q[1])\n",
    "    circuit.rx(theta, qreg_q[0])\n",
    "    circuit.rx(theta, qreg_q[1])\n",
    "\n",
    "    # Barrier\n",
    "    circuit.barrier(qreg_q[0], qreg_q[1], qreg_q[2], qreg_q[3])\n",
    "    \n",
    "    circuit.cx(qreg_q[0], qreg_q[2])\n",
    "    circuit.cx(qreg_q[1], qreg_q[3])\n",
    "    circuit.x(qreg_q[2])\n",
    "    circuit.x(qreg_q[3])\n",
    "    # Measurement\n",
    "    circuit.measure(qreg_q[0], creg_c[0])\n",
    "    circuit.measure(qreg_q[1], creg_c[1])\n",
    "    circuit.measure(qreg_q[2], creg_c[2])\n",
    "    circuit.measure(qreg_q[3], creg_c[3])\n",
    "    \n",
    "    return circuit"
   ]
  },
  {
   "cell_type": "code",
   "execution_count": 8,
   "id": "acb95e8d",
   "metadata": {},
   "outputs": [
    {
     "data": {
      "image/png": "[encoded data removed]",
      "text/plain": [
       "<Figure size 929.397x325.08 with 1 Axes>"
      ]
     },
     "execution_count": 8,
     "metadata": {},
     "output_type": "execute_result"
    }
   ],
   "source": [
    "get_onsite_circ(phi, theta).draw('mpl')"
   ]
  },
  {
   "cell_type": "markdown",
   "id": "9f65f8a8",
   "metadata": {},
   "source": [
    "# Measuring the circuit\n",
    "We're gonna define some objective function/energy that has to be calculated using the resulting counts from the function"
   ]
  },
  {
   "cell_type": "code",
   "execution_count": 9,
   "id": "8cc0bdbe",
   "metadata": {},
   "outputs": [],
   "source": [
    "def get_hopping_counts(arr):\n",
    "    circ = get_hopping_circ(arr[0], arr[1])\n",
    "    backend = provider.get_backend('ibmq_jakarta')\n",
    "    job = execute(circ, backend, shots = 8192)\n",
    "    counts = job.result().get_counts()\n",
    "    return counts"
   ]
  },
  {
   "cell_type": "code",
   "execution_count": 10,
   "id": "9a7d155c",
   "metadata": {},
   "outputs": [],
   "source": [
    "def get_onsite_counts(arr):\n",
    "    circ = get_onsite_circ(arr[0], arr[1])\n",
    "    backend = provider.get_backend('ibmq_jakarta')\n",
    "    job = execute(circ, backend, shots = 8192)\n",
    "    counts = job.result().get_counts()\n",
    "    return counts"
   ]
  },
  {
   "cell_type": "code",
   "execution_count": 11,
   "id": "51c70698",
   "metadata": {},
   "outputs": [],
   "source": [
    "def new_counts(counts):\n",
    "    counts_new = {}\n",
    "     \n",
    "    for key in counts:\n",
    "        if counts_new.get(key[2:4]) != None:\n",
    "            counts_new[key[2:4]]=counts_new[key[2:4]]+counts.get(key)\n",
    "        else:\n",
    "            counts_new[key[2:4]] = counts.get(key)\n",
    "\n",
    "    return counts_new"
   ]
  },
  {
   "cell_type": "code",
   "execution_count": 12,
   "id": "2b15867d",
   "metadata": {},
   "outputs": [],
   "source": [
    "def new_counts_mitigated(counts):\n",
    "    counts_new = {}\n",
    "     \n",
    "    for key in counts:\n",
    "        if key[3]==key[1] or key[2]==key[0]:\n",
    "            counts[key] = 0\n",
    "        if counts_new.get(key[2:4]) != None:\n",
    "            counts_new[key[2:4]]=counts_new[key[2:4]]+counts.get(key)\n",
    "        else:\n",
    "            counts_new[key[2:4]] = counts.get(key)\n",
    "\n",
    "    return counts_new"
   ]
  },
  {
   "cell_type": "code",
   "execution_count": 13,
   "id": "8bbc48cd",
   "metadata": {},
   "outputs": [],
   "source": [
    "def find_energy(counts1, counts2):\n",
    "    energy1 = -t*((counts1.get('11', 0)+counts1.get('01', 0))-(counts1.get('10', 0)+counts1.get('00', 0))+(counts1.get('11', 0)+counts1.get('10', 0))-(counts1.get('01', 0)+counts1.get('00', 0)))/sum(counts1.values())\n",
    "    energy2 = U*(counts2.get('11', 0)+counts2.get('00', 0))/sum(counts2.values())\n",
    "    return energy1 + energy2"
   ]
  },
  {
   "cell_type": "markdown",
   "id": "b2088aae",
   "metadata": {},
   "source": [
    "##### Ready to Optimize"
   ]
  },
  {
   "cell_type": "code",
   "execution_count": 14,
   "id": "1f7bc0e7",
   "metadata": {},
   "outputs": [],
   "source": [
    "def f1(arr):\n",
    "    counts1 = get_hopping_counts(arr)\n",
    "    counts2 = get_onsite_counts(arr)\n",
    "    counts1_new = new_counts(counts1)\n",
    "    counts2_new = new_counts(counts2)\n",
    "    return find_energy(counts1_new, counts2_new)"
   ]
  },
  {
   "cell_type": "code",
   "execution_count": 15,
   "id": "18faf6d6",
   "metadata": {},
   "outputs": [],
   "source": [
    "def f2(arr):\n",
    "    counts1 = get_hopping_counts(arr)\n",
    "    counts2 = get_onsite_counts(arr)\n",
    "    counts1_new = new_counts_mitigated(counts1)\n",
    "    counts2_new = new_counts_mitigated(counts2)\n",
    "    return find_energy(counts1_new, counts2_new)"
   ]
  },
  {
   "cell_type": "code",
   "execution_count": 16,
   "id": "d57ebb10",
   "metadata": {},
   "outputs": [],
   "source": [
    "from scipy.optimize import minimize\n",
    "import numpy as np\n",
    "import random\n",
    "from scipy.optimize import minimize\n",
    "from qiskit.algorithms.optimizers import SPSA\n",
    "import numpy as np\n",
    "import random"
   ]
  },
  {
   "cell_type": "code",
   "execution_count": null,
   "id": "aaf51cc1",
   "metadata": {},
   "outputs": [],
   "source": [
    "iterations1 = []\n",
    "parameters1 = []\n",
    "values1 = []\n",
    "iterations2 = []\n",
    "parameters2 = []\n",
    "values2 = []\n",
    "\n",
    "def callback_fn1(iteration, parameter, value, stepsize, accepted):\n",
    "    if (accepted):\n",
    "        iterations1.append(iteration/3)\n",
    "        parameters1.append(parameter)\n",
    "        values1.append(value)\n",
    "        \n",
    "def callback_fn2(iteration, parameter, value, stepsize, accepted):\n",
    "    if (accepted):\n",
    "        iterations2.append(iteration/3)\n",
    "        parameters2.append(parameter)\n",
    "        values2.append(value)\n",
    "    \n",
    "    \n",
    "true = (-math.sqrt(17)+1)/2\n",
    "    \n",
    "spsa1 = SPSA(maxiter=10, callback=callback_fn1)\n",
    "param1, value1, nefv1 = spsa1.optimize(num_vars=2, objective_function=f1, gradient_function=None, variable_bounds=None, initial_point=np.array([0, 0]))\n",
    "\n",
    "spsa2 = SPSA(maxiter=10, callback=callback_fn2)\n",
    "param2, value2, nefv2 = spsa2.optimize(num_vars=2, objective_function=f2, gradient_function=None, variable_bounds=None, initial_point=np.array([0, 0]))\n",
    "\n",
    "phi1 = param1[0]\n",
    "theta1 = param1[1]\n",
    "energy_diff1 = value1-true\n",
    "\n",
    "phi2 = param2[0]\n",
    "theta2 = param2[1]\n",
    "energy_diff2 = value2-true"
   ]
  },
  {
   "cell_type": "code",
   "execution_count": null,
   "id": "c0644118",
   "metadata": {},
   "outputs": [],
   "source": [
    "%store energy_diff1\n",
    "%store phi1\n",
    "%store theta1\n",
    "%store energy_diff2\n",
    "%store phi2\n",
    "%store theta2\n",
    "%store iterations1\n",
    "%store parameters1\n",
    "%store values1\n",
    "%store iterations2\n",
    "%store parameters2\n",
    "%store values2"
   ]
  },
  {
   "cell_type": "code",
   "execution_count": null,
   "id": "5d1c509b",
   "metadata": {},
   "outputs": [],
   "source": [
    "print(\"Energy Difference: \", energy_diff1)\n",
    "print(\"Phi: \", phi1)\n",
    "print(\"Theta: \", theta1)\n",
    "print(\"Phi: \", phi1%(2*pi))\n",
    "print(\"Theta: \", theta1%(2*pi))"
   ]
  },
  {
   "cell_type": "code",
   "execution_count": null,
   "id": "e3289b31",
   "metadata": {},
   "outputs": [],
   "source": [
    "print(\"Energy Difference: \", energy_diff2)\n",
    "print(\"Phi: \", phi2)\n",
    "print(\"Theta: \", theta2)\n",
    "print(\"Phi: \", phi2%(2*pi))\n",
    "print(\"Theta: \", theta2%(2*pi))"
   ]
  },
  {
   "cell_type": "code",
   "execution_count": null,
   "id": "b6287183",
   "metadata": {},
   "outputs": [],
   "source": [
    "import numpy as np\n",
    "import matplotlib.pyplot as plt\n",
    "\n",
    "plt.figure(figsize=(10, 6))\n",
    "plt.plot(iterations1, values1, label=\"SPSA\")\n",
    "plt.xlabel(\"Number of iterations\", fontsize=14)\n",
    "plt.ylabel(\"Value of Function\", fontsize=14)\n",
    "plt.grid()\n",
    "\n",
    "plt.title(\"SPSA optimization\", fontsize=16)\n",
    "plt.legend(fontsize=14)\n",
    "plt.show()\n",
    "plt.show()"
   ]
  },
  {
   "cell_type": "code",
   "execution_count": null,
   "id": "a427983c",
   "metadata": {},
   "outputs": [],
   "source": [
    "import numpy as np\n",
    "import matplotlib.pyplot as plt\n",
    "\n",
    "plt.figure(figsize=(10, 6))\n",
    "plt.plot(iterations2, values2, label=\"SPSA\")\n",
    "plt.xlabel(\"Number of iterations\", fontsize=14)\n",
    "plt.ylabel(\"Value of Function\", fontsize=14)\n",
    "plt.grid()\n",
    "\n",
    "plt.title(\"SPSA optimization\", fontsize=16)\n",
    "plt.legend(fontsize=14)\n",
    "plt.show()\n",
    "plt.show()"
   ]
  }
 ],
 "metadata": {
  "kernelspec": {
   "display_name": "Python 3 (ipykernel)",
   "language": "python",
   "name": "python3"
  },
  "language_info": {
   "codemirror_mode": {
    "name": "ipython",
    "version": 3
   },
   "file_extension": ".py",
   "mimetype": "text/x-python",
   "name": "python",
   "nbconvert_exporter": "python",
   "pygments_lexer": "ipython3",
   "version": "3.8.12"
  }
 },
 "nbformat": 4,
 "nbformat_minor": 5
}
