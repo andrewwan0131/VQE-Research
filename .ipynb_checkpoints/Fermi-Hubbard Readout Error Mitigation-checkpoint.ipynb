{
 "cells": [
  {
   "cell_type": "code",
   "execution_count": 1,
   "id": "ee49ccab",
   "metadata": {},
   "outputs": [],
   "source": [
    "import warnings\n",
    "warnings.filterwarnings(\"ignore\")"
   ]
  },
  {
   "cell_type": "code",
   "execution_count": 2,
   "id": "21505f2b",
   "metadata": {},
   "outputs": [
    {
     "ename": "SyntaxError",
     "evalue": "invalid syntax (957301105.py, line 1)",
     "output_type": "error",
     "traceback": [
      "\u001b[1;36m  Input \u001b[1;32mIn [2]\u001b[1;36m\u001b[0m\n\u001b[1;33m    import qiskfrom qiskit import *\u001b[0m\n\u001b[1;37m                    ^\u001b[0m\n\u001b[1;31mSyntaxError\u001b[0m\u001b[1;31m:\u001b[0m invalid syntax\n"
     ]
    }
   ],
   "source": [
    "import qiskit\n",
    "from qiskit import *\n",
    "from math import pi\n",
    "from qiskit import IBMQ, Aer\n",
    "from qiskit.providers.aer.noise import NoiseModel\n",
    "from qiskit.test.mock import FakeLondon\n",
    "from qiskit.test.mock import FakeLondon\n",
    "from NoiseModel import generateDepolarizingError, generateRelaxationError, generateNoiseModel\n",
    "from qiskit.visualization import plot_histogram\n",
    "import math\n",
    "import cmath\n",
    "\n",
    "t=1\n",
    "U=1\n",
    "machine = FakeLondon()\n",
    "simulator = Aer.get_backend('qasm_simulator')\n",
    "noise_model = generateNoiseModel(machine, coherent = False, incoherent = False, readout= True)"
   ]
  },
  {
   "cell_type": "code",
   "execution_count": null,
   "id": "cc44f015",
   "metadata": {},
   "outputs": [],
   "source": [
    "#dummy parameters\n",
    "phi = pi/4\n",
    "theta = pi/4"
   ]
  },
  {
   "cell_type": "markdown",
   "id": "722e0ea6",
   "metadata": {},
   "source": [
    "# Circuit"
   ]
  },
  {
   "cell_type": "markdown",
   "id": "2283ea49",
   "metadata": {},
   "source": [
    "Lets make a function out of this which takes in a value for gamma and outputs the circuit with gamma = that value"
   ]
  },
  {
   "cell_type": "code",
   "execution_count": null,
   "id": "26805387",
   "metadata": {},
   "outputs": [],
   "source": [
    "def get_hopping_circ(phi, theta):\n",
    "    \n",
    "    qreg_q = QuantumRegister(8, 'q')\n",
    "    creg_c = ClassicalRegister(8, 'c')\n",
    "    circuit = QuantumCircuit(qreg_q, creg_c)\n",
    "\n",
    "    # Initialization\n",
    "    circuit.x(qreg_q[0])\n",
    "    circuit.x(qreg_q[2])\n",
    "    circuit.cx(qreg_q[0], qreg_q[1])\n",
    "    circuit.cx(qreg_q[2], qreg_q[3])\n",
    "    circuit.cry(-pi/2, qreg_q[1], qreg_q[0])\n",
    "    circuit.cry(-pi/2, qreg_q[3], qreg_q[2])\n",
    "    circuit.cx(qreg_q[0], qreg_q[1])\n",
    "    circuit.cx(qreg_q[2], qreg_q[3])\n",
    "\n",
    "    # Barrier\n",
    "    circuit.barrier(qreg_q[0], qreg_q[1], qreg_q[2], qreg_q[3])\n",
    "\n",
    "    # Ansatz\n",
    "    circuit.crz(phi, qreg_q[2], qreg_q[0])\n",
    "    circuit.crz(phi, qreg_q[3], qreg_q[1])\n",
    "    circuit.cx(qreg_q[0], qreg_q[1])\n",
    "    circuit.cx(qreg_q[2], qreg_q[3])\n",
    "    circuit.crx(theta, qreg_q[1], qreg_q[0])\n",
    "    circuit.crx(theta, qreg_q[3], qreg_q[2])\n",
    "    circuit.cx(qreg_q[0], qreg_q[1])\n",
    "    circuit.cx(qreg_q[2], qreg_q[3])\n",
    "\n",
    "\n",
    "    # Barrier\n",
    "    circuit.barrier(qreg_q[0], qreg_q[1], qreg_q[2], qreg_q[3])\n",
    "\n",
    "    # Diagonalization\n",
    "    circuit.cx(qreg_q[0], qreg_q[1])\n",
    "    circuit.cx(qreg_q[2], qreg_q[3])\n",
    "    circuit.ch(qreg_q[1], qreg_q[0])\n",
    "    circuit.ch(qreg_q[3], qreg_q[2])\n",
    "    circuit.cx(qreg_q[0], qreg_q[1])\n",
    "    circuit.cx(qreg_q[2], qreg_q[3])\n",
    "    \n",
    "    # Barrier\n",
    "    circuit.barrier(qreg_q[0], qreg_q[1], qreg_q[2], qreg_q[3])\n",
    "    \n",
    "    circuit.cx(qreg_q[0], qreg_q[4])\n",
    "    circuit.cx(qreg_q[1], qreg_q[5])\n",
    "    circuit.cx(qreg_q[2], qreg_q[6])\n",
    "    circuit.cx(qreg_q[3], qreg_q[7])\n",
    "    circuit.x(qreg_q[4])\n",
    "    circuit.x(qreg_q[5])\n",
    "    circuit.x(qreg_q[6])\n",
    "    circuit.x(qreg_q[7])\n",
    "    \n",
    "    # Measurement\n",
    "    circuit.measure(qreg_q[0], creg_c[0])\n",
    "    circuit.measure(qreg_q[1], creg_c[1])\n",
    "    circuit.measure(qreg_q[2], creg_c[2])\n",
    "    circuit.measure(qreg_q[3], creg_c[3])\n",
    "    circuit.measure(qreg_q[4], creg_c[4])\n",
    "    circuit.measure(qreg_q[5], creg_c[5])\n",
    "    circuit.measure(qreg_q[6], creg_c[6])\n",
    "    circuit.measure(qreg_q[7], creg_c[7])\n",
    "    \n",
    "    return circuit"
   ]
  },
  {
   "cell_type": "code",
   "execution_count": null,
   "id": "287ea6fa",
   "metadata": {},
   "outputs": [],
   "source": [
    "get_hopping_circ(phi, theta).draw('mpl')"
   ]
  },
  {
   "cell_type": "code",
   "execution_count": null,
   "id": "b9dfb48d",
   "metadata": {},
   "outputs": [],
   "source": [
    "def get_onsite_circ(phi, theta):\n",
    "    \n",
    "    qreg_q = QuantumRegister(8, 'q')\n",
    "    creg_c = ClassicalRegister(8, 'c')\n",
    "    circuit = QuantumCircuit(qreg_q, creg_c)\n",
    "\n",
    "    # Initialization\n",
    "    circuit.x(qreg_q[0])\n",
    "    circuit.x(qreg_q[2])\n",
    "    circuit.cx(qreg_q[0], qreg_q[1])\n",
    "    circuit.cx(qreg_q[2], qreg_q[3])\n",
    "    circuit.cry(-pi/2, qreg_q[1], qreg_q[0])\n",
    "    circuit.cry(-pi/2, qreg_q[3], qreg_q[2])\n",
    "    circuit.cx(qreg_q[0], qreg_q[1])\n",
    "    circuit.cx(qreg_q[2], qreg_q[3])\n",
    "\n",
    "    # Barrier\n",
    "    circuit.barrier(qreg_q[0], qreg_q[1], qreg_q[2], qreg_q[3])\n",
    "\n",
    "    # Ansatz\n",
    "    circuit.crz(phi, qreg_q[2], qreg_q[0])\n",
    "    circuit.crz(phi, qreg_q[3], qreg_q[1])\n",
    "    circuit.cx(qreg_q[0], qreg_q[1])\n",
    "    circuit.cx(qreg_q[2], qreg_q[3])\n",
    "    circuit.crx(theta, qreg_q[1], qreg_q[0])\n",
    "    circuit.crx(theta, qreg_q[3], qreg_q[2])\n",
    "    circuit.cx(qreg_q[0], qreg_q[1])\n",
    "    circuit.cx(qreg_q[2], qreg_q[3])\n",
    "\n",
    "\n",
    "    # Barrier\n",
    "    circuit.barrier(qreg_q[0], qreg_q[1], qreg_q[2], qreg_q[3])\n",
    "    \n",
    "    circuit.cx(qreg_q[0], qreg_q[4])\n",
    "    circuit.cx(qreg_q[1], qreg_q[5])\n",
    "    circuit.cx(qreg_q[2], qreg_q[6])\n",
    "    circuit.cx(qreg_q[3], qreg_q[7])\n",
    "    circuit.x(qreg_q[4])\n",
    "    circuit.x(qreg_q[5])\n",
    "    circuit.x(qreg_q[6])\n",
    "    circuit.x(qreg_q[7])\n",
    "    \n",
    "    # Measurement\n",
    "    circuit.measure(qreg_q[0], creg_c[0])\n",
    "    circuit.measure(qreg_q[1], creg_c[1])\n",
    "    circuit.measure(qreg_q[2], creg_c[2])\n",
    "    circuit.measure(qreg_q[3], creg_c[3])\n",
    "    circuit.measure(qreg_q[4], creg_c[4])\n",
    "    circuit.measure(qreg_q[5], creg_c[5])\n",
    "    circuit.measure(qreg_q[6], creg_c[6])\n",
    "    circuit.measure(qreg_q[7], creg_c[7])\n",
    "    \n",
    "    return circuit"
   ]
  },
  {
   "cell_type": "code",
   "execution_count": null,
   "id": "acb95e8d",
   "metadata": {},
   "outputs": [],
   "source": [
    "get_onsite_circ(phi, theta).draw('mpl')"
   ]
  },
  {
   "cell_type": "markdown",
   "id": "9f65f8a8",
   "metadata": {},
   "source": [
    "# Measuring the circuit\n",
    "We're gonna define some objective function/energy that has to be calculated using the resulting counts from the function"
   ]
  },
  {
   "cell_type": "code",
   "execution_count": null,
   "id": "8cc0bdbe",
   "metadata": {},
   "outputs": [],
   "source": [
    "def get_hopping_counts(arr):\n",
    "    circ = get_hopping_circ(arr[0], arr[1])\n",
    "    backend = Aer.get_backend('qasm_simulator')\n",
    "    job = execute(circ, backend, noise_model = noise_model, shots = 8192)\n",
    "    counts = job.result().get_counts()\n",
    "    return counts"
   ]
  },
  {
   "cell_type": "code",
   "execution_count": null,
   "id": "9a7d155c",
   "metadata": {},
   "outputs": [],
   "source": [
    "def get_onsite_counts(arr):\n",
    "    circ = get_onsite_circ(arr[0], arr[1])\n",
    "    backend = Aer.get_backend('qasm_simulator')\n",
    "    job = execute(circ, backend, noise_model = noise_model, shots = 8192)\n",
    "    counts = job.result().get_counts()\n",
    "    return counts"
   ]
  },
  {
   "cell_type": "code",
   "execution_count": null,
   "id": "51c70698",
   "metadata": {},
   "outputs": [],
   "source": [
    "def new_counts(counts):\n",
    "    counts_new = {}\n",
    "     \n",
    "    for key in counts:\n",
    "        if counts_new.get(key[4:8]) != None:\n",
    "            counts_new[key[4:8]]=counts_new[key[4:8]]+counts.get(key)\n",
    "        else:\n",
    "            counts_new[key[4:8]] = counts.get(key)\n",
    "\n",
    "    return counts_new"
   ]
  },
  {
   "cell_type": "code",
   "execution_count": null,
   "id": "2b15867d",
   "metadata": {},
   "outputs": [],
   "source": [
    "def new_counts_mitigated(counts):\n",
    "    counts_new = {}\n",
    "     \n",
    "    for key in counts:\n",
    "        if key[7]==key[3] or key[6]==key[2] or key[5]==key[1] or key[4]==key[0]:\n",
    "            counts[key] = 0\n",
    "        if counts_new.get(key[4:8]) != None:\n",
    "            counts_new[key[4:8]]=counts_new[key[4:8]]+counts.get(key)\n",
    "        else:\n",
    "            counts_new[key[4:8]] = counts.get(key)\n",
    "\n",
    "    return counts_new"
   ]
  },
  {
   "cell_type": "code",
   "execution_count": null,
   "id": "8bbc48cd",
   "metadata": {},
   "outputs": [],
   "source": [
    "def find_energy(counts1, counts2):\n",
    "    energy1 = -t*((counts1.get('1010', 0)+counts1.get('0110', 0))-(counts1.get('1001', 0)+counts1.get('0101', 0))+(counts1.get('1010', 0)+counts1.get('1001', 0))-(counts1.get('0110', 0)+counts1.get('0101', 0)))/sum(counts1.values())\n",
    "    energy2 = U*(counts2.get('1010', 0)+counts2.get('0101', 0))/sum(counts2.values())\n",
    "    return energy1 + energy2"
   ]
  },
  {
   "cell_type": "markdown",
   "id": "b2088aae",
   "metadata": {},
   "source": [
    "##### Ready to Optimize"
   ]
  },
  {
   "cell_type": "code",
   "execution_count": null,
   "id": "1f7bc0e7",
   "metadata": {},
   "outputs": [],
   "source": [
    "def f1(arr):\n",
    "    counts1 = get_hopping_counts(arr)\n",
    "    counts2 = get_onsite_counts(arr)\n",
    "    counts1_new = new_counts(counts1)\n",
    "    counts2_new = new_counts(counts2)\n",
    "    return find_energy(counts1_new, counts2_new)"
   ]
  },
  {
   "cell_type": "code",
   "execution_count": null,
   "id": "18faf6d6",
   "metadata": {},
   "outputs": [],
   "source": [
    "def f2(arr):\n",
    "    counts1 = get_hopping_counts(arr)\n",
    "    counts2 = get_onsite_counts(arr)\n",
    "    counts1_new = new_counts_mitigated(counts1)\n",
    "    counts2_new = new_counts_mitigated(counts2)\n",
    "    return find_energy(counts1_new, counts2_new)"
   ]
  },
  {
   "cell_type": "markdown",
   "id": "50404403",
   "metadata": {},
   "source": [
    "We will use COBYLA. I'm not sure how it works. My buest guess is it uses some approach and once successive iterations produce values in the same region, it stops"
   ]
  },
  {
   "cell_type": "code",
   "execution_count": null,
   "id": "d57ebb10",
   "metadata": {},
   "outputs": [],
   "source": [
    "from scipy.optimize import minimize\n",
    "import numpy as np\n",
    "import random\n",
    "from scipy.optimize import minimize\n",
    "from qiskit.algorithms.optimizers import SPSA\n",
    "import numpy as np\n",
    "import random"
   ]
  },
  {
   "cell_type": "code",
   "execution_count": null,
   "id": "aaf51cc1",
   "metadata": {},
   "outputs": [],
   "source": [
    "iterations1 = []\n",
    "parameters1 = []\n",
    "values1 = []\n",
    "iterations2 = []\n",
    "parameters2 = []\n",
    "values2 = []\n",
    "\n",
    "def callback_fn1(iteration, parameter, value, stepsize, accepted):\n",
    "    if (accepted):\n",
    "        iterations1.append(iteration)\n",
    "        parameters1.append(parameter)\n",
    "        values1.append(value)\n",
    "        \n",
    "def callback_fn2(iteration, parameter, value, stepsize, accepted):\n",
    "    if (accepted):\n",
    "        iterations2.append(iteration)\n",
    "        parameters2.append(parameter)\n",
    "        values2.append(value)\n",
    "    \n",
    "    \n",
    "true = (-math.sqrt(17)+1)/2\n",
    "    \n",
    "spsa1 = SPSA(maxiter=2000, callback=callback_fn1)\n",
    "param1, value1, nefv1 = spsa1.optimize(num_vars=2, objective_function=f1, gradient_function=None, variable_bounds=None, initial_point=np.array([0, 0]))\n",
    "\n",
    "spsa2 = SPSA(maxiter=2000, callback=callback_fn2)\n",
    "param2, value2, nefv2 = spsa2.optimize(num_vars=2, objective_function=f2, gradient_function=None, variable_bounds=None, initial_point=np.array([0, 0]))\n",
    "\n",
    "phi1 = param1[0]\n",
    "theta1 = param1[1]\n",
    "energy_diff1 = value1-true\n",
    "\n",
    "phi2 = param2[0]\n",
    "theta2 = param2[1]\n",
    "energy_diff2 = value2-true"
   ]
  },
  {
   "cell_type": "code",
   "execution_count": null,
   "id": "c0644118",
   "metadata": {},
   "outputs": [],
   "source": [
    "%store energy_diff1\n",
    "%store phi1\n",
    "%store theta1\n",
    "%store energy_diff2\n",
    "%store phi2\n",
    "%store theta2\n",
    "%store iterations1\n",
    "%store parameters1\n",
    "%store values1\n",
    "%store iterations2\n",
    "%store parameters2\n",
    "%store values2"
   ]
  },
  {
   "cell_type": "code",
   "execution_count": null,
   "id": "5d1c509b",
   "metadata": {},
   "outputs": [],
   "source": [
    "print(\"Energy Difference: \", energy_diff1)\n",
    "print(\"Phi: \", phi1)\n",
    "print(\"Theta: \", theta1)\n",
    "print(\"Phi: \", phi1%(2*pi))\n",
    "print(\"Theta: \", theta1%(2*pi))"
   ]
  },
  {
   "cell_type": "code",
   "execution_count": null,
   "id": "e3289b31",
   "metadata": {},
   "outputs": [],
   "source": [
    "print(\"Energy Difference: \", energy_diff2)\n",
    "print(\"Phi: \", phi2)\n",
    "print(\"Theta: \", theta2)\n",
    "print(\"Phi: \", phi2%(2*pi))\n",
    "print(\"Theta: \", theta2%(2*pi))"
   ]
  },
  {
   "cell_type": "code",
   "execution_count": null,
   "id": "b6287183",
   "metadata": {},
   "outputs": [],
   "source": [
    "import numpy as np\n",
    "import matplotlib.pyplot as plt\n",
    "\n",
    "plt.figure(figsize=(10, 6))\n",
    "plt.plot(iterations1, values1, label=\"SPSA\")\n",
    "plt.xlabel(\"Number of iterations\", fontsize=14)\n",
    "plt.ylabel(\"Value of Function\", fontsize=14)\n",
    "plt.grid()\n",
    "\n",
    "plt.title(\"SPSA optimization\", fontsize=16)\n",
    "plt.legend(fontsize=14)\n",
    "plt.show()\n",
    "plt.show()"
   ]
  },
  {
   "cell_type": "code",
   "execution_count": null,
   "id": "a427983c",
   "metadata": {},
   "outputs": [],
   "source": [
    "import numpy as np\n",
    "import matplotlib.pyplot as plt\n",
    "\n",
    "plt.figure(figsize=(10, 6))\n",
    "plt.plot(iterations2, values2, label=\"SPSA\")\n",
    "plt.xlabel(\"Number of iterations\", fontsize=14)\n",
    "plt.ylabel(\"Value of Function\", fontsize=14)\n",
    "plt.grid()\n",
    "\n",
    "plt.title(\"SPSA optimization\", fontsize=16)\n",
    "plt.legend(fontsize=14)\n",
    "plt.show()\n",
    "plt.show()"
   ]
  }
 ],
 "metadata": {
  "kernelspec": {
   "display_name": "Python 3 (ipykernel)",
   "language": "python",
   "name": "python3"
  },
  "language_info": {
   "codemirror_mode": {
    "name": "ipython",
    "version": 3
   },
   "file_extension": ".py",
   "mimetype": "text/x-python",
   "name": "python",
   "nbconvert_exporter": "python",
   "pygments_lexer": "ipython3",
   "version": "3.9.7"
  }
 },
 "nbformat": 4,
 "nbformat_minor": 5
}
