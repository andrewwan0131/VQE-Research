{
 "cells": [
  {
   "cell_type": "code",
   "execution_count": 1,
   "metadata": {},
   "outputs": [],
   "source": [
    "#some qiskit libraries are being deprecated but I'm too lazy to care so I \n",
    "#just ignore all the warnings. Not good programming practice but physics!\n",
    "import warnings\n",
    "warnings.filterwarnings(\"ignore\")"
   ]
  },
  {
   "cell_type": "code",
   "execution_count": 2,
   "metadata": {},
   "outputs": [],
   "source": [
    "%matplotlib inline\n",
    "# Importing standard Qiskit libraries and configuring account\n",
    "from qiskit import QuantumCircuit, execute, Aer, IBMQ\n",
    "from qiskit.compiler import transpile, assemble\n",
    "from qiskit.tools.jupyter import *\n",
    "from qiskit import *\n",
    "from qiskit.visualization import *\n",
    "# Loading your IBM Q account(s)\n",
    "provider = IBMQ.load_account()\n",
    "\n",
    "import math\n",
    "import random\n",
    "\n",
    "from qiskit.providers.aer.noise import NoiseModel\n",
    "from qiskit.aqua import QuantumInstance\n",
    "from qiskit.providers.aer.noise import thermal_relaxation_error, ReadoutError, depolarizing_error\n",
    "\n",
    "# provider = IBMQ.get_provider(hub='ibm-q')\n",
    "# machine = provider.get_backend('ibmq_valencia')\n",
    "from qiskit.test.mock import FakeLondon\n",
    "machine = FakeLondon()\n",
    "machine_noise_model = NoiseModel.from_backend(machine)\n",
    "simulator = Aer.get_backend('qasm_simulator')\n",
    "\n",
    "\n",
    "basis_gates = machine_noise_model.basis_gates"
   ]
  },
  {
   "cell_type": "markdown",
   "metadata": {},
   "source": [
    "#### for starters, lets copy some functions from qiskit to get circuit for hydrogen\n",
    "\n",
    "ignore highilighted red messages"
   ]
  },
  {
   "cell_type": "markdown",
   "metadata": {},
   "source": [
    "# Important Functions for VQE"
   ]
  },
  {
   "cell_type": "markdown",
   "metadata": {},
   "source": [
    "1. Hammifier\n",
    "\n",
    "The so called VQE circuit above is just the parameterized UCCSD state. To measure the associated energy, we have to evalute the expectation value of each of 5 local hamiltonians-- II, IZ, ZI, ZZ and XX. For the first 4, we don't really have to add any gates because quantum circuits in qiskit measure in Z/I basis by default. Only for the last one do we have to add extra gates into the circuit."
   ]
  },
  {
   "cell_type": "markdown",
   "metadata": {},
   "source": [
    "2. Count to Eigenvalue\n",
    "\n",
    "After running a job, we recieve bit strings and their frequencies. To measure expectation value of a local hamiltonian, we have to first find eigenvalues corresponding to those bit strings(eigenstates). Note the "
   ]
  },
  {
   "cell_type": "markdown",
   "metadata": {},
   "source": [
    "3. Sample Expectation Value\n",
    "\n",
    "(A better name should be SampleEnergy)\n",
    "\n",
    "To calculate energy value, one possible way is to compute expectation value of each local hamiltonian and then combine all those results. I DO NOT use that approach. Instead, the following function assumes that we measure 1 shot for each local hamiltonian, combine the results to get a sample of energy and repeat 1024 times. At the end we will average over all the samples of energy to get the true energy/expectation value.\n"
   ]
  },
  {
   "cell_type": "markdown",
   "metadata": {},
   "source": [
    "4. ExpecValforSamples\n",
    "\n",
    "This is parent function of #3. Now this function recieves 1024 shots for each local hamiltonian circuit. To get 1 sample for each local hamiltonian for the above function, we simply pick a random shot from the 1024 shots for each local hamiltonian and then send that to the above function. (Note there are only 2 circuits even though there are 5 local hamiltonians. Why so? refer to #1)"
   ]
  },
  {
   "cell_type": "code",
   "execution_count": 8,
   "metadata": {},
   "outputs": [],
   "source": [
    "def expecValForSamples(counts_zsis, counts_xx, Hamiltonian, hammy_weights):\n",
    "    '''\n",
    "    Input: counts [dict] for zz,iz, etc. , counts[dict] for xx\n",
    "    Output: List of expecVal for all the samples\n",
    "    '''\n",
    "    \n",
    "    #convert dict to list\n",
    "    list_zsis = dictToList(counts_zsis)\n",
    "    list_xx = dictToList(counts_xx)\n",
    "    \n",
    "    #extract samples from list and compute expec val\n",
    "    expec_vals = []\n",
    "    while(len(list_zsis)!= 0 and len(list_xx)!= 0): \n",
    "        index1 = random.randrange(0, len(list_zsis))\n",
    "        index2 = random.randrange(0, len(list_xx))\n",
    "        \n",
    "        exp_val= sampleExpecVal(list_zsis[index1], list_xx[index2], Hamiltonian, hammy_weights)\n",
    "        expec_vals.append(exp_val)\n",
    "        \n",
    "        #removing those items from list \n",
    "        list_zsis.pop(index1)\n",
    "        list_xx.pop(index2)\n",
    "    return expec_vals"
   ]
  },
  {
   "cell_type": "markdown",
   "metadata": {},
   "source": [
    "5. Evaluator\n",
    "\n",
    "This is a big function trying to do a lot of things at once.\n",
    "\n",
    "1. This function recieves multiple circuits, each of them corresponds to a local hamiltonian (in H2, there are only 2 such circs)\n",
    "\n",
    "2. Because we can only do 8192 shots at a time and we may need more than that for statistics, this function takes the argument samples(bad name-- this should be called shots) and until we get that many samples, we \"while-loop\" over and over again.Now each job returns a dictionary of results (bit strings as keys and their frequencies as values) and we need to add all dicts so that it seems we have gottten , say, 90K shots at once."
   ]
  },
  {
   "cell_type": "code",
   "execution_count": 9,
   "metadata": {},
   "outputs": [],
   "source": [
    "def evaluator(circuits, samples, noise_model, Hamiltonian, hammy_weights, simulator):\n",
    "    \"\"\"\n",
    "    Input: circuits, noise model to run on , weights of the local hammys\n",
    "    Output: expectation value (energy)\n",
    "    \n",
    "    \"\"\"\n",
    "    \n",
    "    #Running the circuits \n",
    "    results = [[] for i in range(len(circuits))]\n",
    "  \n",
    "    \n",
    "    \n",
    "    while(samples!=0):\n",
    "        if (samples>8192):\n",
    "            for i_circ in range(len(circuits)):\n",
    "                circ = circuits[i_circ]\n",
    "                if(noise_model!=None):\n",
    "                    job =  execute(circ, backend = simulator, noise_model = noise_model, shots = 8192)\n",
    "                else:\n",
    "                    job = execute(circ, backend = simulator, shots = 8192)\n",
    "                counts = job.result().get_counts()\n",
    "                results[i_circ].append(counts)\n",
    "            samples-= 8192\n",
    "        else: \n",
    "            for i_circ in range(len(circuits)):\n",
    "                circ = circuits[i_circ]\n",
    "                if(noise_model!=None):\n",
    "                    job =  execute(circ, backend = simulator, noise_model = noise_model, shots = samples)\n",
    "                else:\n",
    "                    job = execute(circ, backend = simulator, shots =samples)\n",
    "                counts = job.result().get_counts()\n",
    "                results[i_circ].append(counts)\n",
    "            samples = 0\n",
    "    #print('Running Circuits done')\n",
    "    #adding up all the dicts\n",
    "    counties = [addDicts(circ_results) for circ_results in results]\n",
    "    \n",
    "    #print('Adding dicts done')\n",
    "    #computing expectation values\n",
    "    expec_vals = expecValForSamples(counties[0], counties[1], Hamiltonian, hammy_weights)\n",
    "    #print('Computing expec vals done')\n",
    "    \n",
    "    mean = np.mean(expec_vals)\n",
    "    #std = np.std(expec_vals)\n",
    "        \n",
    "    return mean"
   ]
  },
  {
   "cell_type": "markdown",
   "metadata": {},
   "source": [
    "6. Helper functions\n",
    "\n",
    "These functions are auxiliary-- they perform little tasks for big functions. (I did not want to make big functions even more bigger so thats why we have the these small functions).\n",
    "\n",
    "The most important out of these is dictToList. Its best shown through an example. Suppose I got the following dict after running a job {'00': 1, '01':2, '10':3, '11':4}. In response, this function converts that dictionary into a list ['00', '01', '01', '10', '10', '10', '11', '11', '11', '11'] This is required for #4."
   ]
  },
  {
   "cell_type": "code",
   "execution_count": 10,
   "metadata": {},
   "outputs": [],
   "source": [
    "def binaryToDecimal(binary):  \n",
    "    binary1 = binary \n",
    "    decimal, i, n = 0, 0, 0\n",
    "    while(binary != 0): \n",
    "        dec = binary % 10\n",
    "        decimal = decimal + dec * pow(2, i) \n",
    "        binary = binary//10\n",
    "        i += 1\n",
    "    return decimal\n",
    "\n",
    "def dictToList(dicty): \n",
    "    '''\n",
    "    Converts dictionary to a list of keys appearing [frequency] number of times\n",
    "    '''\n",
    "    keys = dicty.keys()\n",
    "    listy = []\n",
    "    \n",
    "    for key in keys: \n",
    "        listy += [key for i in range(dicty[key])]\n",
    "    \n",
    "    return listy\n",
    "def addDicts(listy): \n",
    "    '''\n",
    "    Input: list of dicts of counts \n",
    "    Output: combining all dicts into one dict, returning that\n",
    "    '''\n",
    "    keys = ['00', '11', '10', '01']\n",
    "    master = {}\n",
    "    \n",
    "    for key in keys: \n",
    "        #initializing master at that key\n",
    "        master[key] = 0\n",
    "        \n",
    "        #now adding up all dictys[key]\n",
    "        for dicty in listy: \n",
    "            try:\n",
    "                master[key] += dicty[key]\n",
    "            except KeyError: \n",
    "                continue\n",
    "    return master"
   ]
  },
  {
   "cell_type": "markdown",
   "metadata": {},
   "source": [
    "To not keep on defining these functions every time I open a new notebook, I can easily import them from python files which are stored in the same folder as the notebook trying to access them. That last bit is really important."
   ]
  },
  {
   "cell_type": "code",
   "execution_count": 11,
   "metadata": {},
   "outputs": [],
   "source": [
    "#Local Hamiltonian Function\n",
    "from VQEHamiltonian_funcs import Hammifier\n",
    "\n",
    "# Expectation Value/Running Functions\n",
    "from Result_funcs import binaryToDecimal, dictToList, sampleExpecVal, countToEig, expecValForSamples, addDicts, evaluator"
   ]
  },
  {
   "cell_type": "markdown",
   "metadata": {},
   "source": [
    "# Noise Model"
   ]
  },
  {
   "cell_type": "markdown",
   "metadata": {},
   "source": [
    "Ok! another class of functions for getting the noise model. Now when you use qiskit noise model, its kind of annoying trying to isolate coherent from incoherent and so on. The following function saves us from such troubles. The most important function is generateNoiseModel ...pay attention to its arguments. Using those arguments we mix and isolate noise types."
   ]
  },
  {
   "cell_type": "code",
   "execution_count": 12,
   "metadata": {},
   "outputs": [],
   "source": [
    "'''\n",
    "\n",
    "def generateDepolarizingError(machine, gate, qubits)\n",
    "\n",
    "def generateRelaxationError(machine, gate, qubits, t1, t2, amp = 1, custom_t = False):\n",
    "    \"\"\"\n",
    "    Return a relaxation error\n",
    "    \"\"\"\n",
    "\n",
    "def generateNoiseModel(machine, coherent = True, incoherent = False, readout = False, custom_t = False, t1 = None, t2 = None, reverse = False):\n",
    "    \"\"\"\n",
    "    Returns a realistic copy of london noise model with custom t1, t2 times\n",
    "    \"\"\"\n",
    "\n",
    "'''\n",
    "\n",
    "from NoiseModel import generateDepolarizingError, generateRelaxationError, generateNoiseModel"
   ]
  },
  {
   "cell_type": "markdown",
   "metadata": {},
   "source": [
    "An example...meaningless by itself. use it when running a job"
   ]
  },
  {
   "cell_type": "code",
   "execution_count": 13,
   "metadata": {},
   "outputs": [
    {
     "name": "stdout",
     "output_type": "stream",
     "text": [
      "Original: 0.01 0.050000000000000044\n",
      "Reverse: 0.01 0.050000000000000044\n",
      "Original: 0.02 0.07666666666666666\n",
      "Reverse: 0.02 0.07666666666666666\n",
      "Original: 0.14 0.18999999999999995\n",
      "Reverse: 0.14 0.18999999999999995\n",
      "Original: 0.0033333333333332993 0.03\n",
      "Reverse: 0.0033333333333332993 0.03\n",
      "Original: 0.006666666666666667 0.043333333333333335\n",
      "Reverse: 0.006666666666666667 0.043333333333333335\n"
     ]
    }
   ],
   "source": [
    " noise_model = generateNoiseModel(machine, coherent = True, incoherent = True, readout= True)"
   ]
  },
  {
   "cell_type": "markdown",
   "metadata": {},
   "source": [
    "# Running Circuits for different Param"
   ]
  },
  {
   "cell_type": "markdown",
   "metadata": {},
   "source": [
    "The following functions will evaluate energy of H2 as a function of random parameters. It does so 10 times (when you run the following cell, it will print out what iteration its currently at...wait till 9) and we later plot the differences"
   ]
  },
  {
   "cell_type": "code",
   "execution_count": 14,
   "metadata": {},
   "outputs": [
    {
     "name": "stdout",
     "output_type": "stream",
     "text": [
      "0\n"
     ]
    },
    {
     "name": "stderr",
     "output_type": "stream",
     "text": [
      "C:\\Users\\Eesh Gupta\\anaconda\\lib\\site-packages\\qiskit\\chemistry\\components\\variational_forms\\uccsd.py:429: DeprecationWarning: Back-references to from Bit instances to their containing Registers have been deprecated. Instead, inspect Registers to find their contained Bits.\n",
      "  qbits[i] = circuit.qubits[qbits[i].index]\n",
      "C:\\Users\\Eesh Gupta\\anaconda\\lib\\site-packages\\qiskit\\chemistry\\components\\variational_forms\\uccsd.py:429: DeprecationWarning: Back-references to from Bit instances to their containing Registers have been deprecated. Instead, inspect Registers to find their contained Bits.\n",
      "  qbits[i] = circuit.qubits[qbits[i].index]\n",
      "C:\\Users\\Eesh Gupta\\anaconda\\lib\\site-packages\\qiskit\\chemistry\\components\\variational_forms\\uccsd.py:429: DeprecationWarning: Back-references to from Bit instances to their containing Registers have been deprecated. Instead, inspect Registers to find their contained Bits.\n",
      "  qbits[i] = circuit.qubits[qbits[i].index]\n",
      "C:\\Users\\Eesh Gupta\\anaconda\\lib\\site-packages\\qiskit\\chemistry\\components\\variational_forms\\uccsd.py:429: DeprecationWarning: Back-references to from Bit instances to their containing Registers have been deprecated. Instead, inspect Registers to find their contained Bits.\n",
      "  qbits[i] = circuit.qubits[qbits[i].index]\n",
      "C:\\Users\\Eesh Gupta\\anaconda\\lib\\site-packages\\qiskit\\chemistry\\components\\variational_forms\\uccsd.py:429: DeprecationWarning: Back-references to from Bit instances to their containing Registers have been deprecated. Instead, inspect Registers to find their contained Bits.\n",
      "  qbits[i] = circuit.qubits[qbits[i].index]\n",
      "C:\\Users\\Eesh Gupta\\anaconda\\lib\\site-packages\\qiskit\\chemistry\\components\\variational_forms\\uccsd.py:429: DeprecationWarning: Back-references to from Bit instances to their containing Registers have been deprecated. Instead, inspect Registers to find their contained Bits.\n",
      "  qbits[i] = circuit.qubits[qbits[i].index]\n"
     ]
    },
    {
     "name": "stdout",
     "output_type": "stream",
     "text": [
      "1\n"
     ]
    },
    {
     "name": "stderr",
     "output_type": "stream",
     "text": [
      "C:\\Users\\Eesh Gupta\\anaconda\\lib\\site-packages\\qiskit\\chemistry\\components\\variational_forms\\uccsd.py:429: DeprecationWarning: Back-references to from Bit instances to their containing Registers have been deprecated. Instead, inspect Registers to find their contained Bits.\n",
      "  qbits[i] = circuit.qubits[qbits[i].index]\n",
      "C:\\Users\\Eesh Gupta\\anaconda\\lib\\site-packages\\qiskit\\chemistry\\components\\variational_forms\\uccsd.py:429: DeprecationWarning: Back-references to from Bit instances to their containing Registers have been deprecated. Instead, inspect Registers to find their contained Bits.\n",
      "  qbits[i] = circuit.qubits[qbits[i].index]\n",
      "C:\\Users\\Eesh Gupta\\anaconda\\lib\\site-packages\\qiskit\\chemistry\\components\\variational_forms\\uccsd.py:429: DeprecationWarning: Back-references to from Bit instances to their containing Registers have been deprecated. Instead, inspect Registers to find their contained Bits.\n",
      "  qbits[i] = circuit.qubits[qbits[i].index]\n",
      "C:\\Users\\Eesh Gupta\\anaconda\\lib\\site-packages\\qiskit\\chemistry\\components\\variational_forms\\uccsd.py:429: DeprecationWarning: Back-references to from Bit instances to their containing Registers have been deprecated. Instead, inspect Registers to find their contained Bits.\n",
      "  qbits[i] = circuit.qubits[qbits[i].index]\n",
      "C:\\Users\\Eesh Gupta\\anaconda\\lib\\site-packages\\qiskit\\chemistry\\components\\variational_forms\\uccsd.py:429: DeprecationWarning: Back-references to from Bit instances to their containing Registers have been deprecated. Instead, inspect Registers to find their contained Bits.\n",
      "  qbits[i] = circuit.qubits[qbits[i].index]\n",
      "C:\\Users\\Eesh Gupta\\anaconda\\lib\\site-packages\\qiskit\\chemistry\\components\\variational_forms\\uccsd.py:429: DeprecationWarning: Back-references to from Bit instances to their containing Registers have been deprecated. Instead, inspect Registers to find their contained Bits.\n",
      "  qbits[i] = circuit.qubits[qbits[i].index]\n"
     ]
    },
    {
     "name": "stdout",
     "output_type": "stream",
     "text": [
      "2\n"
     ]
    },
    {
     "name": "stderr",
     "output_type": "stream",
     "text": [
      "C:\\Users\\Eesh Gupta\\anaconda\\lib\\site-packages\\qiskit\\chemistry\\components\\variational_forms\\uccsd.py:429: DeprecationWarning: Back-references to from Bit instances to their containing Registers have been deprecated. Instead, inspect Registers to find their contained Bits.\n",
      "  qbits[i] = circuit.qubits[qbits[i].index]\n",
      "C:\\Users\\Eesh Gupta\\anaconda\\lib\\site-packages\\qiskit\\chemistry\\components\\variational_forms\\uccsd.py:429: DeprecationWarning: Back-references to from Bit instances to their containing Registers have been deprecated. Instead, inspect Registers to find their contained Bits.\n",
      "  qbits[i] = circuit.qubits[qbits[i].index]\n",
      "C:\\Users\\Eesh Gupta\\anaconda\\lib\\site-packages\\qiskit\\chemistry\\components\\variational_forms\\uccsd.py:429: DeprecationWarning: Back-references to from Bit instances to their containing Registers have been deprecated. Instead, inspect Registers to find their contained Bits.\n",
      "  qbits[i] = circuit.qubits[qbits[i].index]\n",
      "C:\\Users\\Eesh Gupta\\anaconda\\lib\\site-packages\\qiskit\\chemistry\\components\\variational_forms\\uccsd.py:429: DeprecationWarning: Back-references to from Bit instances to their containing Registers have been deprecated. Instead, inspect Registers to find their contained Bits.\n",
      "  qbits[i] = circuit.qubits[qbits[i].index]\n",
      "C:\\Users\\Eesh Gupta\\anaconda\\lib\\site-packages\\qiskit\\chemistry\\components\\variational_forms\\uccsd.py:429: DeprecationWarning: Back-references to from Bit instances to their containing Registers have been deprecated. Instead, inspect Registers to find their contained Bits.\n",
      "  qbits[i] = circuit.qubits[qbits[i].index]\n",
      "C:\\Users\\Eesh Gupta\\anaconda\\lib\\site-packages\\qiskit\\chemistry\\components\\variational_forms\\uccsd.py:429: DeprecationWarning: Back-references to from Bit instances to their containing Registers have been deprecated. Instead, inspect Registers to find their contained Bits.\n",
      "  qbits[i] = circuit.qubits[qbits[i].index]\n"
     ]
    },
    {
     "name": "stdout",
     "output_type": "stream",
     "text": [
      "3\n"
     ]
    },
    {
     "name": "stderr",
     "output_type": "stream",
     "text": [
      "C:\\Users\\Eesh Gupta\\anaconda\\lib\\site-packages\\qiskit\\chemistry\\components\\variational_forms\\uccsd.py:429: DeprecationWarning: Back-references to from Bit instances to their containing Registers have been deprecated. Instead, inspect Registers to find their contained Bits.\n",
      "  qbits[i] = circuit.qubits[qbits[i].index]\n",
      "C:\\Users\\Eesh Gupta\\anaconda\\lib\\site-packages\\qiskit\\chemistry\\components\\variational_forms\\uccsd.py:429: DeprecationWarning: Back-references to from Bit instances to their containing Registers have been deprecated. Instead, inspect Registers to find their contained Bits.\n",
      "  qbits[i] = circuit.qubits[qbits[i].index]\n",
      "C:\\Users\\Eesh Gupta\\anaconda\\lib\\site-packages\\qiskit\\chemistry\\components\\variational_forms\\uccsd.py:429: DeprecationWarning: Back-references to from Bit instances to their containing Registers have been deprecated. Instead, inspect Registers to find their contained Bits.\n",
      "  qbits[i] = circuit.qubits[qbits[i].index]\n",
      "C:\\Users\\Eesh Gupta\\anaconda\\lib\\site-packages\\qiskit\\chemistry\\components\\variational_forms\\uccsd.py:429: DeprecationWarning: Back-references to from Bit instances to their containing Registers have been deprecated. Instead, inspect Registers to find their contained Bits.\n",
      "  qbits[i] = circuit.qubits[qbits[i].index]\n",
      "C:\\Users\\Eesh Gupta\\anaconda\\lib\\site-packages\\qiskit\\chemistry\\components\\variational_forms\\uccsd.py:429: DeprecationWarning: Back-references to from Bit instances to their containing Registers have been deprecated. Instead, inspect Registers to find their contained Bits.\n",
      "  qbits[i] = circuit.qubits[qbits[i].index]\n",
      "C:\\Users\\Eesh Gupta\\anaconda\\lib\\site-packages\\qiskit\\chemistry\\components\\variational_forms\\uccsd.py:429: DeprecationWarning: Back-references to from Bit instances to their containing Registers have been deprecated. Instead, inspect Registers to find their contained Bits.\n",
      "  qbits[i] = circuit.qubits[qbits[i].index]\n"
     ]
    },
    {
     "name": "stdout",
     "output_type": "stream",
     "text": [
      "4\n"
     ]
    },
    {
     "name": "stderr",
     "output_type": "stream",
     "text": [
      "C:\\Users\\Eesh Gupta\\anaconda\\lib\\site-packages\\qiskit\\chemistry\\components\\variational_forms\\uccsd.py:429: DeprecationWarning: Back-references to from Bit instances to their containing Registers have been deprecated. Instead, inspect Registers to find their contained Bits.\n",
      "  qbits[i] = circuit.qubits[qbits[i].index]\n",
      "C:\\Users\\Eesh Gupta\\anaconda\\lib\\site-packages\\qiskit\\chemistry\\components\\variational_forms\\uccsd.py:429: DeprecationWarning: Back-references to from Bit instances to their containing Registers have been deprecated. Instead, inspect Registers to find their contained Bits.\n",
      "  qbits[i] = circuit.qubits[qbits[i].index]\n",
      "C:\\Users\\Eesh Gupta\\anaconda\\lib\\site-packages\\qiskit\\chemistry\\components\\variational_forms\\uccsd.py:429: DeprecationWarning: Back-references to from Bit instances to their containing Registers have been deprecated. Instead, inspect Registers to find their contained Bits.\n",
      "  qbits[i] = circuit.qubits[qbits[i].index]\n",
      "C:\\Users\\Eesh Gupta\\anaconda\\lib\\site-packages\\qiskit\\chemistry\\components\\variational_forms\\uccsd.py:429: DeprecationWarning: Back-references to from Bit instances to their containing Registers have been deprecated. Instead, inspect Registers to find their contained Bits.\n",
      "  qbits[i] = circuit.qubits[qbits[i].index]\n",
      "C:\\Users\\Eesh Gupta\\anaconda\\lib\\site-packages\\qiskit\\chemistry\\components\\variational_forms\\uccsd.py:429: DeprecationWarning: Back-references to from Bit instances to their containing Registers have been deprecated. Instead, inspect Registers to find their contained Bits.\n",
      "  qbits[i] = circuit.qubits[qbits[i].index]\n",
      "C:\\Users\\Eesh Gupta\\anaconda\\lib\\site-packages\\qiskit\\chemistry\\components\\variational_forms\\uccsd.py:429: DeprecationWarning: Back-references to from Bit instances to their containing Registers have been deprecated. Instead, inspect Registers to find their contained Bits.\n",
      "  qbits[i] = circuit.qubits[qbits[i].index]\n"
     ]
    },
    {
     "name": "stdout",
     "output_type": "stream",
     "text": [
      "5\n"
     ]
    },
    {
     "name": "stderr",
     "output_type": "stream",
     "text": [
      "C:\\Users\\Eesh Gupta\\anaconda\\lib\\site-packages\\qiskit\\chemistry\\components\\variational_forms\\uccsd.py:429: DeprecationWarning: Back-references to from Bit instances to their containing Registers have been deprecated. Instead, inspect Registers to find their contained Bits.\n",
      "  qbits[i] = circuit.qubits[qbits[i].index]\n",
      "C:\\Users\\Eesh Gupta\\anaconda\\lib\\site-packages\\qiskit\\chemistry\\components\\variational_forms\\uccsd.py:429: DeprecationWarning: Back-references to from Bit instances to their containing Registers have been deprecated. Instead, inspect Registers to find their contained Bits.\n",
      "  qbits[i] = circuit.qubits[qbits[i].index]\n",
      "C:\\Users\\Eesh Gupta\\anaconda\\lib\\site-packages\\qiskit\\chemistry\\components\\variational_forms\\uccsd.py:429: DeprecationWarning: Back-references to from Bit instances to their containing Registers have been deprecated. Instead, inspect Registers to find their contained Bits.\n",
      "  qbits[i] = circuit.qubits[qbits[i].index]\n",
      "C:\\Users\\Eesh Gupta\\anaconda\\lib\\site-packages\\qiskit\\chemistry\\components\\variational_forms\\uccsd.py:429: DeprecationWarning: Back-references to from Bit instances to their containing Registers have been deprecated. Instead, inspect Registers to find their contained Bits.\n",
      "  qbits[i] = circuit.qubits[qbits[i].index]\n",
      "C:\\Users\\Eesh Gupta\\anaconda\\lib\\site-packages\\qiskit\\chemistry\\components\\variational_forms\\uccsd.py:429: DeprecationWarning: Back-references to from Bit instances to their containing Registers have been deprecated. Instead, inspect Registers to find their contained Bits.\n",
      "  qbits[i] = circuit.qubits[qbits[i].index]\n",
      "C:\\Users\\Eesh Gupta\\anaconda\\lib\\site-packages\\qiskit\\chemistry\\components\\variational_forms\\uccsd.py:429: DeprecationWarning: Back-references to from Bit instances to their containing Registers have been deprecated. Instead, inspect Registers to find their contained Bits.\n",
      "  qbits[i] = circuit.qubits[qbits[i].index]\n"
     ]
    },
    {
     "name": "stdout",
     "output_type": "stream",
     "text": [
      "6\n"
     ]
    },
    {
     "name": "stderr",
     "output_type": "stream",
     "text": [
      "C:\\Users\\Eesh Gupta\\anaconda\\lib\\site-packages\\qiskit\\chemistry\\components\\variational_forms\\uccsd.py:429: DeprecationWarning: Back-references to from Bit instances to their containing Registers have been deprecated. Instead, inspect Registers to find their contained Bits.\n",
      "  qbits[i] = circuit.qubits[qbits[i].index]\n",
      "C:\\Users\\Eesh Gupta\\anaconda\\lib\\site-packages\\qiskit\\chemistry\\components\\variational_forms\\uccsd.py:429: DeprecationWarning: Back-references to from Bit instances to their containing Registers have been deprecated. Instead, inspect Registers to find their contained Bits.\n",
      "  qbits[i] = circuit.qubits[qbits[i].index]\n",
      "C:\\Users\\Eesh Gupta\\anaconda\\lib\\site-packages\\qiskit\\chemistry\\components\\variational_forms\\uccsd.py:429: DeprecationWarning: Back-references to from Bit instances to their containing Registers have been deprecated. Instead, inspect Registers to find their contained Bits.\n",
      "  qbits[i] = circuit.qubits[qbits[i].index]\n",
      "C:\\Users\\Eesh Gupta\\anaconda\\lib\\site-packages\\qiskit\\chemistry\\components\\variational_forms\\uccsd.py:429: DeprecationWarning: Back-references to from Bit instances to their containing Registers have been deprecated. Instead, inspect Registers to find their contained Bits.\n",
      "  qbits[i] = circuit.qubits[qbits[i].index]\n",
      "C:\\Users\\Eesh Gupta\\anaconda\\lib\\site-packages\\qiskit\\chemistry\\components\\variational_forms\\uccsd.py:429: DeprecationWarning: Back-references to from Bit instances to their containing Registers have been deprecated. Instead, inspect Registers to find their contained Bits.\n",
      "  qbits[i] = circuit.qubits[qbits[i].index]\n",
      "C:\\Users\\Eesh Gupta\\anaconda\\lib\\site-packages\\qiskit\\chemistry\\components\\variational_forms\\uccsd.py:429: DeprecationWarning: Back-references to from Bit instances to their containing Registers have been deprecated. Instead, inspect Registers to find their contained Bits.\n",
      "  qbits[i] = circuit.qubits[qbits[i].index]\n"
     ]
    },
    {
     "name": "stdout",
     "output_type": "stream",
     "text": [
      "7\n"
     ]
    },
    {
     "name": "stderr",
     "output_type": "stream",
     "text": [
      "C:\\Users\\Eesh Gupta\\anaconda\\lib\\site-packages\\qiskit\\chemistry\\components\\variational_forms\\uccsd.py:429: DeprecationWarning: Back-references to from Bit instances to their containing Registers have been deprecated. Instead, inspect Registers to find their contained Bits.\n",
      "  qbits[i] = circuit.qubits[qbits[i].index]\n",
      "C:\\Users\\Eesh Gupta\\anaconda\\lib\\site-packages\\qiskit\\chemistry\\components\\variational_forms\\uccsd.py:429: DeprecationWarning: Back-references to from Bit instances to their containing Registers have been deprecated. Instead, inspect Registers to find their contained Bits.\n",
      "  qbits[i] = circuit.qubits[qbits[i].index]\n",
      "C:\\Users\\Eesh Gupta\\anaconda\\lib\\site-packages\\qiskit\\chemistry\\components\\variational_forms\\uccsd.py:429: DeprecationWarning: Back-references to from Bit instances to their containing Registers have been deprecated. Instead, inspect Registers to find their contained Bits.\n",
      "  qbits[i] = circuit.qubits[qbits[i].index]\n",
      "C:\\Users\\Eesh Gupta\\anaconda\\lib\\site-packages\\qiskit\\chemistry\\components\\variational_forms\\uccsd.py:429: DeprecationWarning: Back-references to from Bit instances to their containing Registers have been deprecated. Instead, inspect Registers to find their contained Bits.\n",
      "  qbits[i] = circuit.qubits[qbits[i].index]\n",
      "C:\\Users\\Eesh Gupta\\anaconda\\lib\\site-packages\\qiskit\\chemistry\\components\\variational_forms\\uccsd.py:429: DeprecationWarning: Back-references to from Bit instances to their containing Registers have been deprecated. Instead, inspect Registers to find their contained Bits.\n",
      "  qbits[i] = circuit.qubits[qbits[i].index]\n",
      "C:\\Users\\Eesh Gupta\\anaconda\\lib\\site-packages\\qiskit\\chemistry\\components\\variational_forms\\uccsd.py:429: DeprecationWarning: Back-references to from Bit instances to their containing Registers have been deprecated. Instead, inspect Registers to find their contained Bits.\n",
      "  qbits[i] = circuit.qubits[qbits[i].index]\n"
     ]
    },
    {
     "name": "stdout",
     "output_type": "stream",
     "text": [
      "8\n"
     ]
    },
    {
     "name": "stderr",
     "output_type": "stream",
     "text": [
      "C:\\Users\\Eesh Gupta\\anaconda\\lib\\site-packages\\qiskit\\chemistry\\components\\variational_forms\\uccsd.py:429: DeprecationWarning: Back-references to from Bit instances to their containing Registers have been deprecated. Instead, inspect Registers to find their contained Bits.\n",
      "  qbits[i] = circuit.qubits[qbits[i].index]\n",
      "C:\\Users\\Eesh Gupta\\anaconda\\lib\\site-packages\\qiskit\\chemistry\\components\\variational_forms\\uccsd.py:429: DeprecationWarning: Back-references to from Bit instances to their containing Registers have been deprecated. Instead, inspect Registers to find their contained Bits.\n",
      "  qbits[i] = circuit.qubits[qbits[i].index]\n",
      "C:\\Users\\Eesh Gupta\\anaconda\\lib\\site-packages\\qiskit\\chemistry\\components\\variational_forms\\uccsd.py:429: DeprecationWarning: Back-references to from Bit instances to their containing Registers have been deprecated. Instead, inspect Registers to find their contained Bits.\n",
      "  qbits[i] = circuit.qubits[qbits[i].index]\n",
      "C:\\Users\\Eesh Gupta\\anaconda\\lib\\site-packages\\qiskit\\chemistry\\components\\variational_forms\\uccsd.py:429: DeprecationWarning: Back-references to from Bit instances to their containing Registers have been deprecated. Instead, inspect Registers to find their contained Bits.\n",
      "  qbits[i] = circuit.qubits[qbits[i].index]\n",
      "C:\\Users\\Eesh Gupta\\anaconda\\lib\\site-packages\\qiskit\\chemistry\\components\\variational_forms\\uccsd.py:429: DeprecationWarning: Back-references to from Bit instances to their containing Registers have been deprecated. Instead, inspect Registers to find their contained Bits.\n",
      "  qbits[i] = circuit.qubits[qbits[i].index]\n",
      "C:\\Users\\Eesh Gupta\\anaconda\\lib\\site-packages\\qiskit\\chemistry\\components\\variational_forms\\uccsd.py:429: DeprecationWarning: Back-references to from Bit instances to their containing Registers have been deprecated. Instead, inspect Registers to find their contained Bits.\n",
      "  qbits[i] = circuit.qubits[qbits[i].index]\n"
     ]
    },
    {
     "name": "stdout",
     "output_type": "stream",
     "text": [
      "9\n"
     ]
    },
    {
     "name": "stderr",
     "output_type": "stream",
     "text": [
      "C:\\Users\\Eesh Gupta\\anaconda\\lib\\site-packages\\qiskit\\chemistry\\components\\variational_forms\\uccsd.py:429: DeprecationWarning: Back-references to from Bit instances to their containing Registers have been deprecated. Instead, inspect Registers to find their contained Bits.\n",
      "  qbits[i] = circuit.qubits[qbits[i].index]\n",
      "C:\\Users\\Eesh Gupta\\anaconda\\lib\\site-packages\\qiskit\\chemistry\\components\\variational_forms\\uccsd.py:429: DeprecationWarning: Back-references to from Bit instances to their containing Registers have been deprecated. Instead, inspect Registers to find their contained Bits.\n",
      "  qbits[i] = circuit.qubits[qbits[i].index]\n",
      "C:\\Users\\Eesh Gupta\\anaconda\\lib\\site-packages\\qiskit\\chemistry\\components\\variational_forms\\uccsd.py:429: DeprecationWarning: Back-references to from Bit instances to their containing Registers have been deprecated. Instead, inspect Registers to find their contained Bits.\n",
      "  qbits[i] = circuit.qubits[qbits[i].index]\n",
      "C:\\Users\\Eesh Gupta\\anaconda\\lib\\site-packages\\qiskit\\chemistry\\components\\variational_forms\\uccsd.py:429: DeprecationWarning: Back-references to from Bit instances to their containing Registers have been deprecated. Instead, inspect Registers to find their contained Bits.\n",
      "  qbits[i] = circuit.qubits[qbits[i].index]\n",
      "C:\\Users\\Eesh Gupta\\anaconda\\lib\\site-packages\\qiskit\\chemistry\\components\\variational_forms\\uccsd.py:429: DeprecationWarning: Back-references to from Bit instances to their containing Registers have been deprecated. Instead, inspect Registers to find their contained Bits.\n",
      "  qbits[i] = circuit.qubits[qbits[i].index]\n",
      "C:\\Users\\Eesh Gupta\\anaconda\\lib\\site-packages\\qiskit\\chemistry\\components\\variational_forms\\uccsd.py:429: DeprecationWarning: Back-references to from Bit instances to their containing Registers have been deprecated. Instead, inspect Registers to find their contained Bits.\n",
      "  qbits[i] = circuit.qubits[qbits[i].index]\n"
     ]
    }
   ],
   "source": [
    "counter = 0\n",
    "\n",
    "def EnergyFinder(param):\n",
    "    '''\n",
    "    Input: param (1D array) for which to compute energy on VQE circ of H2\n",
    "    Output: energy\n",
    "    '''\n",
    "    \n",
    "    Hamiltonian = \"\"\"II\\nIZ\\nZI\\nZZ\\nXX\"\"\"\n",
    "    Hamiltonian_weights = [-1.053, 0.395, -0.395, -0.011, 0.181]\n",
    "    backend = simulator\n",
    "    global noise_model\n",
    "    samples = 8192\n",
    "    \n",
    "    \n",
    "    \n",
    "    circ = var_form.construct_circuit(param).decompose()\n",
    "    circuits = Hammifier(circ, Hamiltonian)\n",
    "    noisy = evaluator(circuits, samples, noise_model, Hamiltonian, Hamiltonian_weights, simulator)\n",
    "    ideal = evaluator(circuits, samples, None, Hamiltonian, Hamiltonian_weights, simulator)\n",
    "    return noisy, ideal\n",
    "\n",
    "def main():\n",
    "    '''\n",
    "    Choose param and compute mean\n",
    "    '''\n",
    "    d = -math.pi\n",
    "    u = math.pi\n",
    "    \n",
    "    energies = []\n",
    "    diff = []\n",
    "    params = []\n",
    "    \n",
    "    for i in range(10):\n",
    "        print(i)\n",
    "    \n",
    "        p1 = random.uniform(d, u)\n",
    "        p2 = random.uniform(d, u)\n",
    "        p3 = random.uniform(d, u)\n",
    "\n",
    "\n",
    "        noisy, ideal = EnergyFinder([p1,p2,p3])\n",
    "        energies.append([[p1,p2,p3], ideal, noisy])\n",
    "        diff.append(noisy-ideal)\n",
    "        \n",
    "    return energies, diff\n",
    "energies, diff = main()"
   ]
  },
  {
   "cell_type": "code",
   "execution_count": 15,
   "metadata": {},
   "outputs": [
    {
     "data": {
      "image/png": "[encoded data removed]",
      "text/plain": [
       "<Figure size 432x288 with 1 Axes>"
      ]
     },
     "metadata": {
      "needs_background": "light"
     },
     "output_type": "display_data"
    }
   ],
   "source": [
    "import numpy as np\n",
    "import matplotlib.pyplot as plt\n",
    "\n",
    "a = plt.figure()\n",
    "plt.hist(diff, bins=100, color = \"blue\")\n",
    "plt.title(\"Noisy - Ideal Energy (Regular)\")\n",
    "plt.xlabel(\"Energy Difference (Hartree)\")\n",
    "plt.ylabel(\"Frequency\")\n",
    "plt.show()\n",
    "#a.savefig('Normal(1).png', dpi = 1000)"
   ]
  }
 ],
 "metadata": {
  "kernelspec": {
   "display_name": "Python 3 (ipykernel)",
   "language": "python",
   "name": "python3"
  },
  "language_info": {
   "codemirror_mode": {
    "name": "ipython",
    "version": 3
   },
   "file_extension": ".py",
   "mimetype": "text/x-python",
   "name": "python",
   "nbconvert_exporter": "python",
   "pygments_lexer": "ipython3",
   "version": "3.8.12"
  }
 },
 "nbformat": 4,
 "nbformat_minor": 4
}
